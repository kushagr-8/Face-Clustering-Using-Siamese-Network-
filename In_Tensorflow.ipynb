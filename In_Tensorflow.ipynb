{
 "cells": [
  {
   "cell_type": "code",
   "execution_count": 16,
   "id": "41f580f9",
   "metadata": {},
   "outputs": [
    {
     "name": "stdout",
     "output_type": "stream",
     "text": [
      "Python version: 3.11.4 | packaged by Anaconda, Inc. | (main, Jul  5 2023, 13:38:37) [MSC v.1916 64 bit (AMD64)]\n"
     ]
    }
   ],
   "source": [
    "import sys\n",
    "\n",
    "python_version = sys.version\n",
    "print(f\"Python version: {python_version}\")"
   ]
  },
  {
   "cell_type": "code",
   "execution_count": 18,
   "id": "02fd264a",
   "metadata": {},
   "outputs": [],
   "source": [
    "import cv2\n",
    "import numpy as np\n",
    "import os\n",
    "import random\n",
    "from matplotlib import pyplot as plt"
   ]
  },
  {
   "cell_type": "code",
   "execution_count": 19,
   "id": "b2a9a490",
   "metadata": {},
   "outputs": [],
   "source": [
    "from tensorflow.keras.models import Model\n",
    "from tensorflow.keras.layers import Flatten,Conv2D,MaxPooling2D,Layer,Dense,Input\n",
    "import tensorflow as tf"
   ]
  },
  {
   "cell_type": "code",
   "execution_count": 20,
   "id": "8b68a86a",
   "metadata": {},
   "outputs": [],
   "source": [
    "gpu=tf.config.experimental.list_physical_devices('GPU')\n",
    "for gpus in gpu:\n",
    "    tf.config.experimental.set_memory_growth(gpus,True)"
   ]
  },
  {
   "cell_type": "code",
   "execution_count": 21,
   "id": "95b46758",
   "metadata": {},
   "outputs": [
    {
     "data": {
      "text/plain": [
       "0"
      ]
     },
     "execution_count": 21,
     "metadata": {},
     "output_type": "execute_result"
    }
   ],
   "source": [
    "len(gpu)"
   ]
  },
  {
   "cell_type": "code",
   "execution_count": 22,
   "id": "9a7019a8",
   "metadata": {},
   "outputs": [
    {
     "data": {
      "text/plain": [
       "'F:\\\\'"
      ]
     },
     "execution_count": 22,
     "metadata": {},
     "output_type": "execute_result"
    }
   ],
   "source": [
    "os.getcwd()"
   ]
  },
  {
   "cell_type": "code",
   "execution_count": 23,
   "id": "2d3d79a7",
   "metadata": {},
   "outputs": [
    {
     "data": {
      "text/plain": [
       "'F:\\\\'"
      ]
     },
     "execution_count": 23,
     "metadata": {},
     "output_type": "execute_result"
    }
   ],
   "source": [
    "os.chdir(\"F:/\")\n",
    "os.getcwd()"
   ]
  },
  {
   "cell_type": "code",
   "execution_count": 24,
   "id": "1d0ccbe5",
   "metadata": {},
   "outputs": [],
   "source": [
    "pos_path=os.path.join('work','positve')\n",
    "neg_path=os.path.join('work','negative')\n",
    "anchor_path=os.path.join('work','anchor')"
   ]
  },
  {
   "cell_type": "code",
   "execution_count": 25,
   "id": "e9204af9",
   "metadata": {},
   "outputs": [],
   "source": [
    "#building directories\n",
    "#os.mkdir(pos_path)\n",
    "#os.mkdir(neg_path)\n",
    "#os.mkdir(anchor_path)\n"
   ]
  },
  {
   "cell_type": "code",
   "execution_count": 26,
   "id": "47634600",
   "metadata": {},
   "outputs": [],
   "source": [
    "path=\"lfw/\""
   ]
  },
  {
   "cell_type": "code",
   "execution_count": 27,
   "id": "0df1c611",
   "metadata": {},
   "outputs": [],
   "source": [
    "#iterating through the files\n",
    "for directories in os.listdir(path):\n",
    "    for filename in os.listdir(os.path.join(path,directories)):\n",
    "        Ex_path=os.path.join(path,directories,filename)\n",
    "        #transferrring it to new path\n",
    "        New_path=os.path.join(neg_path,filename)\n",
    "        os.replace(Ex_path,New_path)\n",
    "        "
   ]
  },
  {
   "cell_type": "code",
   "execution_count": 28,
   "id": "864d50ba",
   "metadata": {},
   "outputs": [],
   "source": [
    "import uuid"
   ]
  },
  {
   "cell_type": "code",
   "execution_count": 29,
   "id": "bd56ac02",
   "metadata": {},
   "outputs": [
    {
     "data": {
      "text/plain": [
       "UUID('237efae2-23c0-11ee-bdb9-30c9abdaff74')"
      ]
     },
     "execution_count": 29,
     "metadata": {},
     "output_type": "execute_result"
    }
   ],
   "source": [
    "#creating unique identity to the files we  have\n",
    "uuid.uuid1()"
   ]
  },
  {
   "cell_type": "code",
   "execution_count": 30,
   "id": "2fe759df",
   "metadata": {},
   "outputs": [
    {
     "data": {
      "text/plain": [
       "'work\\\\anchor\\\\239e5027-23c0-11ee-8fd0-30c9abdaff74.jpg'"
      ]
     },
     "execution_count": 30,
     "metadata": {},
     "output_type": "execute_result"
    }
   ],
   "source": [
    "os.path.join(anchor_path,'{}.jpg'.format(uuid.uuid1()))"
   ]
  },
  {
   "cell_type": "code",
   "execution_count": 31,
   "id": "49d01d79",
   "metadata": {},
   "outputs": [],
   "source": [
    "#import and creatinf postive and anchor images from camera \n",
    "import cv2\n",
    "cap=cv2.VideoCapture(0)\n",
    "while(cap.isOpened()):\n",
    "    ret,frame=cap.read()\n",
    "    #Show the resized frame on the screen\n",
    "    frame=frame[130:80+300,200:200+250,:]\n",
    "    if cv2.waitKey(1)&0XFF == ord('a'):\n",
    "        #creating unique name to the photos clicked\n",
    "        imgname=os.path.join(anchor_path,'{}.jpg'.format(uuid.uuid1()))\n",
    "        cv2.imwrite(imgname,frame)\n",
    "        \n",
    "    #Collect positives\n",
    "    if cv2.waitKey(1) &0XFF==ord('p'):\n",
    "        imgname=os.path.join(pos_path,'{}.jpg'.format(uuid.uuid1()))\n",
    "        cv2.imwrite(imgname,frame)\n",
    "    \n",
    "    cv2.imshow('Image Collection',frame)\n",
    "    \n",
    "               \n",
    "      # Break the loop if 'q' is pressed\n",
    "    if cv2.waitKey(1) & 0xFF == ord('q'):\n",
    "        break\n",
    "\n",
    "# Release the webcam\n",
    "cap.release()\n",
    "\n",
    "# Close the displayed frames\n",
    "cv2.destroyAllWindows()"
   ]
  },
  {
   "cell_type": "code",
   "execution_count": 32,
   "id": "57959db2",
   "metadata": {},
   "outputs": [
    {
     "data": {
      "text/plain": [
       "array([[[210, 208, 211],\n",
       "        [210, 208, 211],\n",
       "        [210, 208, 211],\n",
       "        ...,\n",
       "        [189, 191, 197],\n",
       "        [189, 191, 197],\n",
       "        [188, 190, 195]],\n",
       "\n",
       "       [[210, 208, 211],\n",
       "        [210, 208, 211],\n",
       "        [208, 206, 210],\n",
       "        ...,\n",
       "        [190, 191, 197],\n",
       "        [190, 191, 197],\n",
       "        [188, 190, 195]],\n",
       "\n",
       "       [[210, 208, 211],\n",
       "        [208, 206, 210],\n",
       "        [208, 206, 210],\n",
       "        ...,\n",
       "        [191, 191, 197],\n",
       "        [191, 191, 197],\n",
       "        [191, 191, 197]],\n",
       "\n",
       "       ...,\n",
       "\n",
       "       [[ 81,  63,  58],\n",
       "        [ 77,  58,  54],\n",
       "        [ 70,  51,  47],\n",
       "        ...,\n",
       "        [ 31,  26,  28],\n",
       "        [ 32,  27,  29],\n",
       "        [ 31,  27,  29]],\n",
       "\n",
       "       [[ 81,  63,  57],\n",
       "        [ 76,  58,  53],\n",
       "        [ 68,  51,  47],\n",
       "        ...,\n",
       "        [ 32,  26,  28],\n",
       "        [ 32,  26,  28],\n",
       "        [ 32,  27,  29]],\n",
       "\n",
       "       [[ 82,  64,  57],\n",
       "        [ 75,  58,  52],\n",
       "        [ 68,  51,  46],\n",
       "        ...,\n",
       "        [ 32,  26,  28],\n",
       "        [ 33,  27,  29],\n",
       "        [ 32,  27,  29]]], dtype=uint8)"
      ]
     },
     "execution_count": 32,
     "metadata": {},
     "output_type": "execute_result"
    }
   ],
   "source": [
    "frame"
   ]
  },
  {
   "cell_type": "code",
   "execution_count": 33,
   "id": "db91bac7",
   "metadata": {},
   "outputs": [
    {
     "data": {
      "text/plain": [
       "(250, 250, 3)"
      ]
     },
     "execution_count": 33,
     "metadata": {},
     "output_type": "execute_result"
    }
   ],
   "source": [
    "frame.shape"
   ]
  },
  {
   "cell_type": "code",
   "execution_count": 34,
   "id": "db007f61",
   "metadata": {},
   "outputs": [
    {
     "data": {
      "text/plain": [
       "<matplotlib.image.AxesImage at 0x233fbe8f690>"
      ]
     },
     "execution_count": 34,
     "metadata": {},
     "output_type": "execute_result"
    },
    {
     "data": {
      "image/png": "[encoded data removed]",
      "text/plain": [
       "<Figure size 640x480 with 1 Axes>"
      ]
     },
     "metadata": {},
     "output_type": "display_data"
    }
   ],
   "source": [
    "plt.imshow(frame)"
   ]
  },
  {
   "cell_type": "code",
   "execution_count": 35,
   "id": "ceb449d5",
   "metadata": {},
   "outputs": [],
   "source": [
    "anchor=tf.data.Dataset.list_files(anchor_path+'\\*.jpg').take(300)\n",
    "positive=tf.data.Dataset.list_files(pos_path+'\\*.jpg').take(300)\n",
    "negative=tf.data.Dataset.list_files(neg_path+'\\*.jpg').take(300)"
   ]
  },
  {
   "cell_type": "code",
   "execution_count": 36,
   "id": "9b2b30dc",
   "metadata": {},
   "outputs": [
    {
     "data": {
      "text/plain": [
       "b'work\\\\anchor\\\\e221d55f-1e72-11ee-8de2-30c9abdaff74.jpg'"
      ]
     },
     "execution_count": 36,
     "metadata": {},
     "output_type": "execute_result"
    }
   ],
   "source": [
    "dir_test=anchor.as_numpy_iterator()\n",
    "dir_test.next()"
   ]
  },
  {
   "cell_type": "code",
   "execution_count": 37,
   "id": "8b48028b",
   "metadata": {},
   "outputs": [],
   "source": [
    "def preprocess(file_path):\n",
    "    byte_img=tf.io.read_file(file_path)\n",
    "    img=tf.io.decode_jpeg(byte_img)\n",
    "    img=tf.image.resize(img,(100,100))\n",
    "    img=img/255.0\n",
    "    return img"
   ]
  },
  {
   "cell_type": "code",
   "execution_count": 38,
   "id": "dba756a6",
   "metadata": {},
   "outputs": [
    {
     "data": {
      "text/plain": [
       "<tf.Tensor: shape=(100, 100, 3), dtype=float32, numpy=\n",
       "array([[[0.73259807, 0.73651963, 0.7129902 ],\n",
       "        [0.74215686, 0.74607843, 0.7264706 ],\n",
       "        [0.7377451 , 0.74313724, 0.7144608 ],\n",
       "        ...,\n",
       "        [0.99607843, 1.        , 1.        ],\n",
       "        [0.99607843, 1.        , 1.        ],\n",
       "        [1.        , 1.        , 1.        ]],\n",
       "\n",
       "       [[0.7362745 , 0.7362745 , 0.6965686 ],\n",
       "        [0.7411765 , 0.7382353 , 0.71568626],\n",
       "        [0.74289215, 0.7473039 , 0.7078431 ],\n",
       "        ...,\n",
       "        [1.        , 1.        , 0.9980392 ],\n",
       "        [1.        , 1.        , 0.9980392 ],\n",
       "        [1.        , 1.        , 0.9980392 ]],\n",
       "\n",
       "       [[0.73259807, 0.7384804 , 0.6884804 ],\n",
       "        [0.7360294 , 0.7382353 , 0.70686275],\n",
       "        [0.73995095, 0.73995095, 0.7026961 ],\n",
       "        ...,\n",
       "        [0.9970588 , 0.9970588 , 0.99509805],\n",
       "        [0.9970588 , 0.9970588 , 0.99509805],\n",
       "        [1.        , 1.        , 0.9980392 ]],\n",
       "\n",
       "       ...,\n",
       "\n",
       "       [[0.45588234, 0.4509804 , 0.5058824 ],\n",
       "        [0.4480392 , 0.44607842, 0.49411765],\n",
       "        [0.44730392, 0.44093138, 0.49117646],\n",
       "        ...,\n",
       "        [0.5296569 , 0.53455883, 0.59436274],\n",
       "        [0.54607844, 0.5421569 , 0.60490197],\n",
       "        [0.55490196, 0.5509804 , 0.6137255 ]],\n",
       "\n",
       "       [[0.45563725, 0.4477941 , 0.4997549 ],\n",
       "        [0.4502451 , 0.44240198, 0.49338236],\n",
       "        [0.44730392, 0.43946078, 0.49044117],\n",
       "        ...,\n",
       "        [0.54607844, 0.5509804 , 0.6107843 ],\n",
       "        [0.5617647 , 0.55784315, 0.62058824],\n",
       "        [0.5617647 , 0.55784315, 0.62058824]],\n",
       "\n",
       "       [[0.44877452, 0.44093138, 0.49583334],\n",
       "        [0.44607842, 0.43823528, 0.48921567],\n",
       "        [0.44313726, 0.43529412, 0.4862745 ],\n",
       "        ...,\n",
       "        [0.5588235 , 0.5637255 , 0.62352943],\n",
       "        [0.5715686 , 0.56764704, 0.63039213],\n",
       "        [0.56666666, 0.5627451 , 0.6254902 ]]], dtype=float32)>"
      ]
     },
     "execution_count": 38,
     "metadata": {},
     "output_type": "execute_result"
    }
   ],
   "source": [
    "img=preprocess('work\\\\anchor\\\\0082cdba-1e73-11ee-a3f7-30c9abdaff74.jpg')\n",
    "img"
   ]
  },
  {
   "cell_type": "code",
   "execution_count": 39,
   "id": "a5509b16",
   "metadata": {},
   "outputs": [
    {
     "data": {
      "text/plain": [
       "<matplotlib.image.AxesImage at 0x233ffbf94d0>"
      ]
     },
     "execution_count": 39,
     "metadata": {},
     "output_type": "execute_result"
    },
    {
     "data": {
      "image/png": "[encoded data removed]",
      "text/plain": [
       "<Figure size 640x480 with 1 Axes>"
      ]
     },
     "metadata": {},
     "output_type": "display_data"
    }
   ],
   "source": [
    "plt.imshow(img)"
   ]
  },
  {
   "cell_type": "code",
   "execution_count": 40,
   "id": "357959b8",
   "metadata": {},
   "outputs": [
    {
     "data": {
      "text/plain": [
       "1.0"
      ]
     },
     "execution_count": 40,
     "metadata": {},
     "output_type": "execute_result"
    }
   ],
   "source": [
    "img.numpy().max()"
   ]
  },
  {
   "cell_type": "code",
   "execution_count": 41,
   "id": "9762249c",
   "metadata": {},
   "outputs": [
    {
     "name": "stdout",
     "output_type": "stream",
     "text": [
      "<_ConcatenateDataset element_spec=(TensorSpec(shape=(), dtype=tf.string, name=None), TensorSpec(shape=(), dtype=tf.string, name=None), TensorSpec(shape=(), dtype=tf.float32, name=None))>\n"
     ]
    }
   ],
   "source": [
    "positives=tf.data.Dataset.zip(anchor,positive,tf.data.Dataset.from_tensor_slices(tf.ones(len(anchor))))\n",
    "negatives=tf.data.Dataset.zip(anchor,negative,tf.data.Dataset.from_tensor_slices(tf.zeros(len(anchor))))\n",
    "Data=positives.concatenate(negatives)\n",
    "print(Data)"
   ]
  },
  {
   "cell_type": "code",
   "execution_count": 42,
   "id": "9273cbec",
   "metadata": {},
   "outputs": [
    {
     "data": {
      "text/plain": [
       "(b'work\\\\anchor\\\\9b0b85ad-1e72-11ee-a3f4-30c9abdaff74.jpg',\n",
       " b'work\\\\positve\\\\f3b0f244-1e70-11ee-8f67-30c9abdaff74.jpg',\n",
       " 1.0)"
      ]
     },
     "execution_count": 42,
     "metadata": {},
     "output_type": "execute_result"
    }
   ],
   "source": [
    "samples=Data.as_numpy_iterator()\n",
    "example=samples.next()\n",
    "example"
   ]
  },
  {
   "cell_type": "code",
   "execution_count": 43,
   "id": "e5f9e9a9",
   "metadata": {},
   "outputs": [],
   "source": [
    "#Now we are going to Build Train and Test Partition\n",
    "def preprocess_twin(img,validation_img,label):\n",
    "    return(preprocess(img),preprocess(validation_img),label)"
   ]
  },
  {
   "cell_type": "code",
   "execution_count": 44,
   "id": "996ab77c",
   "metadata": {},
   "outputs": [],
   "source": [
    "res=preprocess_twin(*example)"
   ]
  },
  {
   "cell_type": "code",
   "execution_count": 45,
   "id": "38f7947e",
   "metadata": {},
   "outputs": [
    {
     "data": {
      "text/plain": [
       "<tf.Tensor: shape=(100, 100, 3), dtype=float32, numpy=\n",
       "array([[[0.44828433, 0.3855392 , 0.3345588 ],\n",
       "        [0.45612746, 0.39338234, 0.34240195],\n",
       "        [0.46372548, 0.40686274, 0.35588235],\n",
       "        ...,\n",
       "        [0.45686275, 0.55490196, 0.7117647 ],\n",
       "        [0.4598039 , 0.55784315, 0.7147059 ],\n",
       "        [0.45686275, 0.55490196, 0.7117647 ]],\n",
       "\n",
       "       [[0.4392157 , 0.3764706 , 0.3254902 ],\n",
       "        [0.44705883, 0.38431373, 0.33186275],\n",
       "        [0.45367646, 0.39534312, 0.34436274],\n",
       "        ...,\n",
       "        [0.4509804 , 0.55      , 0.70392156],\n",
       "        [0.45171568, 0.55      , 0.70612746],\n",
       "        [0.44828433, 0.54632354, 0.7031863 ]],\n",
       "\n",
       "       [[0.44313726, 0.3745098 , 0.32058823],\n",
       "        [0.44607842, 0.37745097, 0.32352942],\n",
       "        [0.4504902 , 0.38406864, 0.34044117],\n",
       "        ...,\n",
       "        [0.44019607, 0.5421569 , 0.6872549 ],\n",
       "        [0.44338235, 0.54240197, 0.6963235 ],\n",
       "        [0.44289216, 0.54093134, 0.69779414]],\n",
       "\n",
       "       ...,\n",
       "\n",
       "       [[0.3629902 , 0.3620098 , 0.4110294 ],\n",
       "        [0.36838236, 0.36740196, 0.41642156],\n",
       "        [0.37156862, 0.37058824, 0.41960785],\n",
       "        ...,\n",
       "        [0.22867647, 0.23063725, 0.2502451 ],\n",
       "        [0.24730392, 0.2512255 , 0.27058825],\n",
       "        [0.2627451 , 0.26666668, 0.2860294 ]],\n",
       "\n",
       "       [[0.36078432, 0.35980392, 0.40882352],\n",
       "        [0.36078432, 0.35906863, 0.40955883],\n",
       "        [0.36764705, 0.36372548, 0.41862744],\n",
       "        ...,\n",
       "        [0.29338235, 0.27892157, 0.2875    ],\n",
       "        [0.30857843, 0.29191175, 0.30857843],\n",
       "        [0.29730392, 0.28308824, 0.2990196 ]],\n",
       "\n",
       "       [[0.35      , 0.35784313, 0.40490195],\n",
       "        [0.3647059 , 0.36372548, 0.4127451 ],\n",
       "        [0.37156862, 0.36764705, 0.422549  ],\n",
       "        ...,\n",
       "        [0.34534314, 0.30735293, 0.3142157 ],\n",
       "        [0.33553922, 0.2997549 , 0.31176472],\n",
       "        [0.32205883, 0.2889706 , 0.30784315]]], dtype=float32)>"
      ]
     },
     "execution_count": 45,
     "metadata": {},
     "output_type": "execute_result"
    }
   ],
   "source": [
    "res[0]"
   ]
  },
  {
   "cell_type": "code",
   "execution_count": 46,
   "id": "78791b7d",
   "metadata": {},
   "outputs": [
    {
     "data": {
      "text/plain": [
       "<matplotlib.image.AxesImage at 0x233ffc8e690>"
      ]
     },
     "execution_count": 46,
     "metadata": {},
     "output_type": "execute_result"
    },
    {
     "data": {
      "image/png": "[encoded data removed]",
      "text/plain": [
       "<Figure size 640x480 with 1 Axes>"
      ]
     },
     "metadata": {},
     "output_type": "display_data"
    }
   ],
   "source": [
    "plt.imshow(res[1])"
   ]
  },
  {
   "cell_type": "code",
   "execution_count": 47,
   "id": "39c32c8d",
   "metadata": {},
   "outputs": [
    {
     "data": {
      "text/plain": [
       "<matplotlib.image.AxesImage at 0x233ffc93dd0>"
      ]
     },
     "execution_count": 47,
     "metadata": {},
     "output_type": "execute_result"
    },
    {
     "data": {
      "image/png": "[encoded data removed]",
      "text/plain": [
       "<Figure size 640x480 with 1 Axes>"
      ]
     },
     "metadata": {},
     "output_type": "display_data"
    }
   ],
   "source": [
    "plt.imshow(res[0])"
   ]
  },
  {
   "cell_type": "code",
   "execution_count": 48,
   "id": "25f279d8",
   "metadata": {},
   "outputs": [],
   "source": [
    "#building a dataloader pipeline\n",
    "Data=Data.map(preprocess_twin)\n",
    "Data=Data.cache()\n",
    "Data=Data.shuffle(buffer_size=1024)"
   ]
  },
  {
   "cell_type": "code",
   "execution_count": 49,
   "id": "8f08cf42",
   "metadata": {},
   "outputs": [],
   "source": [
    "#train_data\n",
    "train_data=Data.take(round(len(Data)*.7))\n",
    "train_data=train_data.batch(16)\n",
    "train_data=train_data.prefetch(8)"
   ]
  },
  {
   "cell_type": "code",
   "execution_count": 50,
   "id": "5ec67469",
   "metadata": {},
   "outputs": [
    {
     "data": {
      "text/plain": [
       "<_PrefetchDataset element_spec=(TensorSpec(shape=(None, 100, 100, None), dtype=tf.float32, name=None), TensorSpec(shape=(None, 100, 100, None), dtype=tf.float32, name=None), TensorSpec(shape=(None,), dtype=tf.float32, name=None))>"
      ]
     },
     "execution_count": 50,
     "metadata": {},
     "output_type": "execute_result"
    }
   ],
   "source": [
    "train_data\n"
   ]
  },
  {
   "cell_type": "code",
   "execution_count": 51,
   "id": "c5d26edb",
   "metadata": {},
   "outputs": [
    {
     "data": {
      "text/plain": [
       "<_ShuffleDataset element_spec=(TensorSpec(shape=(100, 100, None), dtype=tf.float32, name=None), TensorSpec(shape=(100, 100, None), dtype=tf.float32, name=None), TensorSpec(shape=(), dtype=tf.float32, name=None))>"
      ]
     },
     "execution_count": 51,
     "metadata": {},
     "output_type": "execute_result"
    }
   ],
   "source": [
    "Data"
   ]
  },
  {
   "cell_type": "code",
   "execution_count": 52,
   "id": "5a008101",
   "metadata": {},
   "outputs": [],
   "source": [
    "#testing_data\n",
    "test_data=Data.skip(round(len(Data)*.7))\n",
    "test_data=test_data.take(round(len(Data)*.3))\n",
    "test_data=train_data.batch(16)\n",
    "test_data=train_data.prefetch(8)"
   ]
  },
  {
   "cell_type": "code",
   "execution_count": 53,
   "id": "1747cff2",
   "metadata": {},
   "outputs": [
    {
     "data": {
      "text/plain": [
       "<_PrefetchDataset element_spec=(TensorSpec(shape=(None, 100, 100, None), dtype=tf.float32, name=None), TensorSpec(shape=(None, 100, 100, None), dtype=tf.float32, name=None), TensorSpec(shape=(None,), dtype=tf.float32, name=None))>"
      ]
     },
     "execution_count": 53,
     "metadata": {},
     "output_type": "execute_result"
    }
   ],
   "source": [
    "test_data\n"
   ]
  },
  {
   "cell_type": "markdown",
   "id": "5f350a9a",
   "metadata": {},
   "source": [
    "# Model Building\n"
   ]
  },
  {
   "cell_type": "markdown",
   "id": "064d290e",
   "metadata": {},
   "source": [
    "## Building Embedding layer\n"
   ]
  },
  {
   "cell_type": "code",
   "execution_count": 54,
   "id": "6dfe4998",
   "metadata": {},
   "outputs": [],
   "source": [
    "def make_embedding():\n",
    "    #creating input layer\n",
    "    inp=Input(shape=(100,100,3),name=\"Input_Image\")\n",
    "    \n",
    "    #Convulation Layer with RelU to first block\n",
    "    c1=Conv2D(64,(10,10),activation='relu')(inp)\n",
    "    #implementing maxPooling layer\n",
    "    m1=MaxPooling2D(64,(2,2),padding='same')(c1)\n",
    "    \n",
    "    #implementing next block\n",
    "    c2=Conv2D(128,(7,7),activation='relu')(m1)\n",
    "    #implementing maxPooling layer\n",
    "    m2=MaxPooling2D(64,(2,2),padding='same')(c2)\n",
    "    \n",
    "     #implementing third block\n",
    "    c3=Conv2D(128,(4,4),activation='relu')(m2)\n",
    "    #implementing maxPooling layer\n",
    "    m3=MaxPooling2D(64,(2,2),padding='same')(c3)\n",
    "    \n",
    "     #implementing Final Layer\n",
    "    c4=Conv2D(256,(4,4),activation='relu')(m3)\n",
    "    f1=Flatten()(c4)\n",
    "    d1=Dense(4096,activation='sigmoid')(f1)\n",
    "    \n",
    "    return Model(inputs=[inp],outputs=[d1],name='embedding')"
   ]
  },
  {
   "cell_type": "code",
   "execution_count": 55,
   "id": "504cf536",
   "metadata": {},
   "outputs": [
    {
     "name": "stdout",
     "output_type": "stream",
     "text": [
      "Model: \"embedding\"\n",
      "_________________________________________________________________\n",
      " Layer (type)                Output Shape              Param #   \n",
      "=================================================================\n",
      " Input_Image (InputLayer)    [(None, 100, 100, 3)]     0         \n",
      "                                                                 \n",
      " conv2d (Conv2D)             (None, 91, 91, 64)        19264     \n",
      "                                                                 \n",
      " max_pooling2d (MaxPooling2  (None, 46, 46, 64)        0         \n",
      " D)                                                              \n",
      "                                                                 \n",
      " conv2d_1 (Conv2D)           (None, 40, 40, 128)       401536    \n",
      "                                                                 \n",
      " max_pooling2d_1 (MaxPoolin  (None, 20, 20, 128)       0         \n",
      " g2D)                                                            \n",
      "                                                                 \n",
      " conv2d_2 (Conv2D)           (None, 17, 17, 128)       262272    \n",
      "                                                                 \n",
      " max_pooling2d_2 (MaxPoolin  (None, 9, 9, 128)         0         \n",
      " g2D)                                                            \n",
      "                                                                 \n",
      " conv2d_3 (Conv2D)           (None, 6, 6, 256)         524544    \n",
      "                                                                 \n",
      " flatten (Flatten)           (None, 9216)              0         \n",
      "                                                                 \n",
      " dense (Dense)               (None, 4096)              37752832  \n",
      "                                                                 \n",
      "=================================================================\n",
      "Total params: 38960448 (148.62 MB)\n",
      "Trainable params: 38960448 (148.62 MB)\n",
      "Non-trainable params: 0 (0.00 Byte)\n",
      "_________________________________________________________________\n"
     ]
    }
   ],
   "source": [
    "inp=Input(shape=(100,100,3),name=\"Input_Image\")\n",
    "c1=Conv2D(64,(10,10),activation='relu')(inp)\n",
    "m1=MaxPooling2D(64,(2,2),padding='same')(c1)\n",
    "c2=Conv2D(128,(7,7),activation='relu')(m1)\n",
    "m2=MaxPooling2D(64,(2,2),padding='same')(c2)\n",
    "c3=Conv2D(128,(4,4),activation='relu')(m2)\n",
    "m3=MaxPooling2D(64,(2,2),padding='same')(c3)\n",
    "c4=Conv2D(256,(4,4),activation='relu')(m3)\n",
    "f1=Flatten()(c4)\n",
    "d1=Dense(4096,activation='sigmoid')(f1)\n",
    "f1\n",
    "embedding=Model(inputs=[inp],outputs=[d1],name='embedding')\n",
    "embedding.summary()"
   ]
  },
  {
   "cell_type": "markdown",
   "id": "72451f37",
   "metadata": {},
   "source": [
    "## Build L1 Distance Layer"
   ]
  },
  {
   "cell_type": "code",
   "execution_count": 56,
   "id": "a09a8776",
   "metadata": {},
   "outputs": [],
   "source": [
    "#this layer will take the feature layer of 4096 vector of the input layer and\n",
    "#then subtracts the array flatten layer with other image for checking the similarity between the images.\n"
   ]
  },
  {
   "cell_type": "code",
   "execution_count": 57,
   "id": "08ffc506",
   "metadata": {},
   "outputs": [],
   "source": [
    "class L1Dist(Layer):\n",
    "    def __init__(self,**kwargs):\n",
    "        super(L1Dist,self).__init__()\n",
    "    def call(self,input_embedding,validation_embedding):\n",
    "        return tf.abs(input_embedding-validation_embedding)"
   ]
  },
  {
   "cell_type": "markdown",
   "id": "119b02c1",
   "metadata": {},
   "source": [
    "## Make Siamese Model"
   ]
  },
  {
   "cell_type": "code",
   "execution_count": 58,
   "id": "c67aa69e",
   "metadata": {},
   "outputs": [],
   "source": [
    "def make_siamese_model():\n",
    "    # for Inputs\n",
    "    input_img = Input(name='input_img', shape=(100, 100, 3))\n",
    "    validation_img = Input(name='validation_img', shape=(100, 100, 3))\n",
    "\n",
    "    # combining these two images\n",
    "    siamese_layer = L1Dist(name=\"Distance\")\n",
    "    distances = siamese_layer(embedding(input_img),embedding(validation_img))\n",
    "\n",
    "    # Classification Layer\n",
    "    classifier = Dense(1, activation='sigmoid')(distances)\n",
    "    return Model(inputs=[input_img, validation_img], outputs=classifier, name=\"Siamese_Network\")\n"
   ]
  },
  {
   "cell_type": "code",
   "execution_count": 59,
   "id": "11e3a8b4",
   "metadata": {},
   "outputs": [],
   "source": [
    "input_img=Input(name='input_img',shape=(100,100,3))\n",
    "validation_img=Input(name='validation_img',shape=(100,100,3))\n",
    "siamese_layer=L1Dist(name=\"Distance\")\n",
    "distances=siamese_layer(embedding(input_img),embedding(validation_img))    \n",
    "classifier=Dense(1,activation='sigmoid')(distances)\n",
    "our_model=Model(inputs=[input_img,validation_img],outputs=classifier,name=\"Siamese Network\")"
   ]
  },
  {
   "cell_type": "code",
   "execution_count": 60,
   "id": "99af45eb",
   "metadata": {},
   "outputs": [
    {
     "name": "stdout",
     "output_type": "stream",
     "text": [
      "Model: \"Siamese Network\"\n",
      "__________________________________________________________________________________________________\n",
      " Layer (type)                Output Shape                 Param #   Connected to                  \n",
      "==================================================================================================\n",
      " input_img (InputLayer)      [(None, 100, 100, 3)]        0         []                            \n",
      "                                                                                                  \n",
      " validation_img (InputLayer  [(None, 100, 100, 3)]        0         []                            \n",
      " )                                                                                                \n",
      "                                                                                                  \n",
      " embedding (Functional)      (None, 4096)                 3896044   ['input_img[0][0]',           \n",
      "                                                          8          'validation_img[0][0]']      \n",
      "                                                                                                  \n",
      " l1_dist (L1Dist)            (None, 4096)                 0         ['embedding[0][0]',           \n",
      "                                                                     'embedding[1][0]']           \n",
      "                                                                                                  \n",
      " dense_1 (Dense)             (None, 1)                    4097      ['l1_dist[0][0]']             \n",
      "                                                                                                  \n",
      "==================================================================================================\n",
      "Total params: 38964545 (148.64 MB)\n",
      "Trainable params: 38964545 (148.64 MB)\n",
      "Non-trainable params: 0 (0.00 Byte)\n",
      "__________________________________________________________________________________________________\n"
     ]
    }
   ],
   "source": [
    "our_model.summary()"
   ]
  },
  {
   "cell_type": "code",
   "execution_count": 61,
   "id": "ecc01348",
   "metadata": {},
   "outputs": [
    {
     "name": "stdout",
     "output_type": "stream",
     "text": [
      "Model: \"Siamese_Network\"\n",
      "__________________________________________________________________________________________________\n",
      " Layer (type)                Output Shape                 Param #   Connected to                  \n",
      "==================================================================================================\n",
      " input_img (InputLayer)      [(None, 100, 100, 3)]        0         []                            \n",
      "                                                                                                  \n",
      " validation_img (InputLayer  [(None, 100, 100, 3)]        0         []                            \n",
      " )                                                                                                \n",
      "                                                                                                  \n",
      " embedding (Functional)      (None, 4096)                 3896044   ['input_img[0][0]',           \n",
      "                                                          8          'validation_img[0][0]']      \n",
      "                                                                                                  \n",
      " l1_dist_1 (L1Dist)          (None, 4096)                 0         ['embedding[2][0]',           \n",
      "                                                                     'embedding[3][0]']           \n",
      "                                                                                                  \n",
      " dense_2 (Dense)             (None, 1)                    4097      ['l1_dist_1[0][0]']           \n",
      "                                                                                                  \n",
      "==================================================================================================\n",
      "Total params: 38964545 (148.64 MB)\n",
      "Trainable params: 38964545 (148.64 MB)\n",
      "Non-trainable params: 0 (0.00 Byte)\n",
      "__________________________________________________________________________________________________\n"
     ]
    }
   ],
   "source": [
    "siamese_model=make_siamese_model()\n",
    "siamese_model.summary()"
   ]
  },
  {
   "cell_type": "markdown",
   "id": "e1bb421d",
   "metadata": {},
   "source": [
    "# Training\n"
   ]
  },
  {
   "cell_type": "markdown",
   "id": "ae5803ae",
   "metadata": {},
   "source": [
    "## Loss and Optmizier"
   ]
  },
  {
   "cell_type": "code",
   "execution_count": 62,
   "id": "891c79ac",
   "metadata": {},
   "outputs": [],
   "source": [
    "binary_loss_optimzer=tf.losses.BinaryCrossentropy()\n",
    "opt=tf.keras.optimizers.Adam(1e-4)"
   ]
  },
  {
   "cell_type": "code",
   "execution_count": 63,
   "id": "661422d7",
   "metadata": {},
   "outputs": [],
   "source": [
    "checkpoint_dir=\"./training_Checkpoints\"\n",
    "checkpoint_prefix=os.path.join(checkpoint_dir,'ckpt')\n",
    "checkpoint=tf.train.Checkpoint(opt=opt,siamese_model=siamese_model)"
   ]
  },
  {
   "cell_type": "markdown",
   "id": "0b88bbc9",
   "metadata": {},
   "source": [
    "## Build Train Step Function"
   ]
  },
  {
   "cell_type": "code",
   "execution_count": 64,
   "id": "b43b575a",
   "metadata": {},
   "outputs": [],
   "source": [
    "train_batch=train_data.as_numpy_iterator()\n",
    "batch_1=train_batch.next()\n",
    "#len(batch_1[1])\n",
    "\n",
    "#bat=tf.convert_to_tensor(batch_1[1])\n",
    "#bat"
   ]
  },
  {
   "cell_type": "code",
   "execution_count": 65,
   "id": "fac8caaf",
   "metadata": {},
   "outputs": [
    {
     "data": {
      "text/plain": [
       "(16,)"
      ]
     },
     "execution_count": 65,
     "metadata": {},
     "output_type": "execute_result"
    }
   ],
   "source": [
    "y=batch_1[2]\n",
    "y.shape"
   ]
  },
  {
   "cell_type": "code",
   "execution_count": 66,
   "id": "7e13b435",
   "metadata": {},
   "outputs": [
    {
     "data": {
      "text/plain": [
       "(array([[[[0.5835784 , 0.57965684, 0.560049  ],\n",
       "          [0.5892157 , 0.5852941 , 0.56960785],\n",
       "          [0.59313726, 0.5892157 , 0.57941175],\n",
       "          ...,\n",
       "          [0.84313726, 0.85490197, 0.8745098 ],\n",
       "          [0.8392157 , 0.8509804 , 0.87647057],\n",
       "          [0.8362745 , 0.85588235, 0.87941176]],\n",
       " \n",
       "         [[0.5745098 , 0.57058823, 0.5509804 ],\n",
       "          [0.5835784 , 0.57965684, 0.56397057],\n",
       "          [0.5901961 , 0.5862745 , 0.5764706 ],\n",
       "          ...,\n",
       "          [0.83504903, 0.8546569 , 0.8737745 ],\n",
       "          [0.83210784, 0.8517157 , 0.8752451 ],\n",
       "          [0.83137256, 0.8509804 , 0.8745098 ]],\n",
       " \n",
       "         [[0.56936276, 0.5654412 , 0.5487745 ],\n",
       "          [0.57843137, 0.5745098 , 0.5588235 ],\n",
       "          [0.5872549 , 0.5833333 , 0.56911767],\n",
       "          ...,\n",
       "          [0.81789213, 0.84338236, 0.86691177],\n",
       "          [0.8186275 , 0.84411764, 0.86764705],\n",
       "          [0.8147059 , 0.8401961 , 0.8637255 ]],\n",
       " \n",
       "         ...,\n",
       " \n",
       "         [[0.34044117, 0.3365196 , 0.36789215],\n",
       "          [0.34215686, 0.3382353 , 0.36960784],\n",
       "          [0.3345588 , 0.33063725, 0.3620098 ],\n",
       "          ...,\n",
       "          [0.35808823, 0.36397058, 0.4139706 ],\n",
       "          [0.3647059 , 0.3647059 , 0.4117647 ],\n",
       "          [0.3647059 , 0.3647059 , 0.4117647 ]],\n",
       " \n",
       "         [[0.34485295, 0.3409314 , 0.37230393],\n",
       "          [0.3480392 , 0.34411764, 0.3754902 ],\n",
       "          [0.3382353 , 0.33431372, 0.36568627],\n",
       "          ...,\n",
       "          [0.3526961 , 0.35857844, 0.40637255],\n",
       "          [0.3617647 , 0.3617647 , 0.40882352],\n",
       "          [0.3617647 , 0.3617647 , 0.40882352]],\n",
       " \n",
       "         [[0.3482843 , 0.34436274, 0.36789215],\n",
       "          [0.34117648, 0.3372549 , 0.36078432],\n",
       "          [0.34044117, 0.3365196 , 0.360049  ],\n",
       "          ...,\n",
       "          [0.3509804 , 0.35686275, 0.40392157],\n",
       "          [0.35686275, 0.35686275, 0.40392157],\n",
       "          [0.35490197, 0.35490197, 0.4019608 ]]],\n",
       " \n",
       " \n",
       "        [[[0.7382353 , 0.7343137 , 0.7264706 ],\n",
       "          [0.74313724, 0.7392157 , 0.73137254],\n",
       "          [0.7529412 , 0.7490196 , 0.7411765 ],\n",
       "          ...,\n",
       "          [0.6284314 , 0.73039216, 0.8598039 ],\n",
       "          [0.627451  , 0.7294118 , 0.86470586],\n",
       "          [0.62352943, 0.7254902 , 0.8627451 ]],\n",
       " \n",
       "         [[0.7362745 , 0.7323529 , 0.7245098 ],\n",
       "          [0.74019605, 0.7362745 , 0.72843134],\n",
       "          [0.7470588 , 0.74313724, 0.7352941 ],\n",
       "          ...,\n",
       "          [0.6036765 , 0.7151961 , 0.8492647 ],\n",
       "          [0.6125    , 0.717402  , 0.8536765 ],\n",
       "          [0.6186274 , 0.7205882 , 0.85588235]],\n",
       " \n",
       "         [[0.7323529 , 0.72843134, 0.7205882 ],\n",
       "          [0.7343137 , 0.73039216, 0.722549  ],\n",
       "          [0.74338233, 0.73946077, 0.7316176 ],\n",
       "          ...,\n",
       "          [0.59313726, 0.70686275, 0.8401961 ],\n",
       "          [0.59411764, 0.7078431 , 0.84117645],\n",
       "          [0.5990196 , 0.70980394, 0.8362745 ]],\n",
       " \n",
       "         ...,\n",
       " \n",
       "         [[0.5301471 , 0.5262255 , 0.58112746],\n",
       "          [0.5294118 , 0.5254902 , 0.5808824 ],\n",
       "          [0.52181375, 0.5245098 , 0.57916665],\n",
       "          ...,\n",
       "          [0.34191176, 0.34289217, 0.34632352],\n",
       "          [0.34877452, 0.3526961 , 0.36053923],\n",
       "          [0.3392157 , 0.34313726, 0.3509804 ]],\n",
       " \n",
       "         [[0.5264706 , 0.52254903, 0.577451  ],\n",
       "          [0.5294118 , 0.5254902 , 0.5808824 ],\n",
       "          [0.52867645, 0.5247549 , 0.58161765],\n",
       "          ...,\n",
       "          [0.33504903, 0.3382353 , 0.35196078],\n",
       "          [0.34117648, 0.34509805, 0.35882354],\n",
       "          [0.3392157 , 0.34313726, 0.35686275]],\n",
       " \n",
       "         [[0.5264706 , 0.5264706 , 0.5735294 ],\n",
       "          [0.5245098 , 0.5245098 , 0.5715686 ],\n",
       "          [0.51691175, 0.51691175, 0.56397057],\n",
       "          ...,\n",
       "          [0.34117648, 0.34509805, 0.36078432],\n",
       "          [0.34044117, 0.34436274, 0.360049  ],\n",
       "          [0.34411764, 0.3480392 , 0.36372548]]],\n",
       " \n",
       " \n",
       "        [[[0.50710785, 0.5093137 , 0.5132353 ],\n",
       "          [0.4495098 , 0.45539215, 0.47843137],\n",
       "          [0.39240196, 0.40637255, 0.45269608],\n",
       "          ...,\n",
       "          [0.8784314 , 0.9078431 , 0.9382353 ],\n",
       "          [0.86960787, 0.904902  , 0.93235296],\n",
       "          [0.86764705, 0.90294117, 0.93039215]],\n",
       " \n",
       "         [[0.37965685, 0.389951  , 0.42156863],\n",
       "          [0.36764705, 0.37720588, 0.4257353 ],\n",
       "          [0.35882354, 0.37058824, 0.43137255],\n",
       "          ...,\n",
       "          [0.8688725 , 0.9022059 , 0.93063724],\n",
       "          [0.8656863 , 0.8990196 , 0.92745095],\n",
       "          [0.8598039 , 0.8931373 , 0.92156863]],\n",
       " \n",
       "         [[0.33333334, 0.35490197, 0.4017157 ],\n",
       "          [0.3254902 , 0.34534314, 0.40980393],\n",
       "          [0.32034314, 0.34313726, 0.40808824],\n",
       "          ...,\n",
       "          [0.8536765 , 0.88553923, 0.9147059 ],\n",
       "          [0.85294116, 0.88039213, 0.9117647 ],\n",
       "          [0.8598039 , 0.8872549 , 0.91862744]],\n",
       " \n",
       "         ...,\n",
       " \n",
       "         [[0.40098038, 0.33039215, 0.29117647],\n",
       "          [0.38921568, 0.3254902 , 0.28529412],\n",
       "          [0.38112745, 0.3262255 , 0.28308824],\n",
       "          ...,\n",
       "          [0.53995097, 0.5360294 , 0.6066176 ],\n",
       "          [0.5634804 , 0.5595588 , 0.6242647 ],\n",
       "          [0.5921569 , 0.5882353 , 0.6509804 ]],\n",
       " \n",
       "         [[0.40098038, 0.33039215, 0.29117647],\n",
       "          [0.39019608, 0.32647058, 0.28627452],\n",
       "          [0.3872549 , 0.33235294, 0.28921568],\n",
       "          ...,\n",
       "          [0.5514706 , 0.547549  , 0.61813724],\n",
       "          [0.59289217, 0.5889706 , 0.65367645],\n",
       "          [0.6362745 , 0.63235295, 0.69509804]],\n",
       " \n",
       "         [[0.39117646, 0.3245098 , 0.28529412],\n",
       "          [0.38333333, 0.32843137, 0.28529412],\n",
       "          [0.3852941 , 0.33039215, 0.2872549 ],\n",
       "          ...,\n",
       "          [0.5620098 , 0.55808824, 0.6286765 ],\n",
       "          [0.595098  , 0.59117645, 0.65588236],\n",
       "          [0.62647057, 0.622549  , 0.6852941 ]]],\n",
       " \n",
       " \n",
       "        ...,\n",
       " \n",
       " \n",
       "        [[[0.8       , 0.78431374, 0.7411765 ],\n",
       "          [0.79901963, 0.78431374, 0.74313724],\n",
       "          [0.79313725, 0.79019606, 0.7519608 ],\n",
       "          ...,\n",
       "          [0.93897057, 0.93897057, 0.9468137 ],\n",
       "          [0.93897057, 0.93897057, 0.9468137 ],\n",
       "          [0.9343137 , 0.9343137 , 0.94215685]],\n",
       " \n",
       "         [[0.7941176 , 0.7794118 , 0.7382353 ],\n",
       "          [0.7921569 , 0.782598  , 0.7406863 ],\n",
       "          [0.7884804 , 0.7855392 , 0.7473039 ],\n",
       "          ...,\n",
       "          [0.9379902 , 0.9379902 , 0.9458333 ],\n",
       "          [0.9372549 , 0.9372549 , 0.94509804],\n",
       "          [0.93333334, 0.93333334, 0.9411765 ]],\n",
       " \n",
       "         [[0.7852941 , 0.7735294 , 0.7382353 ],\n",
       "          [0.7877451 , 0.77818626, 0.74215686],\n",
       "          [0.7855392 , 0.7848039 , 0.7502451 ],\n",
       "          ...,\n",
       "          [0.9343137 , 0.9343137 , 0.94215685],\n",
       "          [0.9365196 , 0.9365196 , 0.94436276],\n",
       "          [0.9372549 , 0.9372549 , 0.94509804]],\n",
       " \n",
       "         ...,\n",
       " \n",
       "         [[0.67132354, 0.64093137, 0.5870098 ],\n",
       "          [0.6735294 , 0.6460784 , 0.5833333 ],\n",
       "          [0.67058825, 0.6431373 , 0.5803922 ],\n",
       "          ...,\n",
       "          [0.7889706 , 0.7615196 , 0.73014706],\n",
       "          [0.7921569 , 0.7647059 , 0.73333335],\n",
       "          [0.7921569 , 0.7647059 , 0.73333335]],\n",
       " \n",
       "         [[0.67058825, 0.6431373 , 0.5803922 ],\n",
       "          [0.67058825, 0.6431373 , 0.5803922 ],\n",
       "          [0.67058825, 0.6431373 , 0.5803922 ],\n",
       "          ...,\n",
       "          [0.7921569 , 0.7647059 , 0.73333335],\n",
       "          [0.7921569 , 0.7647059 , 0.73333335],\n",
       "          [0.7921569 , 0.7647059 , 0.73333335]],\n",
       " \n",
       "         [[0.67058825, 0.6431373 , 0.57254905],\n",
       "          [0.67058825, 0.6431373 , 0.5803922 ],\n",
       "          [0.66764706, 0.6431373 , 0.5862745 ],\n",
       "          ...,\n",
       "          [0.7911765 , 0.7637255 , 0.7323529 ],\n",
       "          [0.7882353 , 0.7607843 , 0.7294118 ],\n",
       "          [0.7921569 , 0.7647059 , 0.73333335]]],\n",
       " \n",
       " \n",
       "        [[[0.6       , 0.59607846, 0.5764706 ],\n",
       "          [0.60882354, 0.60490197, 0.5852941 ],\n",
       "          [0.61470586, 0.6107843 , 0.59117645],\n",
       "          ...,\n",
       "          [0.8637255 , 0.87941176, 0.9147059 ],\n",
       "          [0.8598039 , 0.8754902 , 0.9107843 ],\n",
       "          [0.85588235, 0.8715686 , 0.90686274]],\n",
       " \n",
       "         [[0.595098  , 0.59117645, 0.5715686 ],\n",
       "          [0.60294116, 0.5990196 , 0.57941175],\n",
       "          [0.6098039 , 0.60588235, 0.5862745 ],\n",
       "          ...,\n",
       "          [0.8509804 , 0.8686274 , 0.89117646],\n",
       "          [0.8480392 , 0.8656863 , 0.8882353 ],\n",
       "          [0.8480392 , 0.8656863 , 0.8882353 ]],\n",
       " \n",
       "         [[0.59313726, 0.5892157 , 0.56960785],\n",
       "          [0.59632355, 0.592402  , 0.57279414],\n",
       "          [0.6039216 , 0.6       , 0.5803922 ],\n",
       "          ...,\n",
       "          [0.8480392 , 0.8598039 , 0.87941176],\n",
       "          [0.84705883, 0.85882354, 0.8784314 ],\n",
       "          [0.84411764, 0.85588235, 0.8754902 ]],\n",
       " \n",
       "         ...,\n",
       " \n",
       "         [[0.32941177, 0.31764707, 0.34509805],\n",
       "          [0.3262255 , 0.31446078, 0.34191176],\n",
       "          [0.31862745, 0.30686274, 0.33431372],\n",
       "          ...,\n",
       "          [0.36544117, 0.35367647, 0.38897058],\n",
       "          [0.37156862, 0.35980392, 0.39509803],\n",
       "          [0.3764706 , 0.3647059 , 0.4       ]],\n",
       " \n",
       "         [[0.32647058, 0.31470588, 0.34215686],\n",
       "          [0.32156864, 0.30980393, 0.3372549 ],\n",
       "          [0.31470588, 0.30294117, 0.33039215],\n",
       "          ...,\n",
       "          [0.37156862, 0.35980392, 0.39509803],\n",
       "          [0.37843138, 0.36666667, 0.4019608 ],\n",
       "          [0.37941176, 0.36764705, 0.40294117]],\n",
       " \n",
       "         [[0.32941177, 0.31764707, 0.34509805],\n",
       "          [0.32058823, 0.30882353, 0.3362745 ],\n",
       "          [0.3154412 , 0.30367646, 0.33112746],\n",
       "          ...,\n",
       "          [0.38137254, 0.36960784, 0.40490195],\n",
       "          [0.3872549 , 0.3754902 , 0.4107843 ],\n",
       "          [0.39215687, 0.38039216, 0.41568628]]],\n",
       " \n",
       " \n",
       "        [[[0.4134804 , 0.45269608, 0.4879902 ],\n",
       "          [0.40588236, 0.44411764, 0.49264705],\n",
       "          [0.40710783, 0.44240198, 0.50710785],\n",
       "          ...,\n",
       "          [0.9519608 , 0.97156864, 0.99485296],\n",
       "          [0.95098037, 0.9705882 , 0.9941176 ],\n",
       "          [0.9379902 , 0.96544117, 0.9889706 ]],\n",
       " \n",
       "         [[0.39093137, 0.42132354, 0.4752451 ],\n",
       "          [0.39044118, 0.42156863, 0.47696078],\n",
       "          [0.3872549 , 0.42058823, 0.48480392],\n",
       "          ...,\n",
       "          [0.9411765 , 0.9607843 , 0.9843137 ],\n",
       "          [0.9409314 , 0.9605392 , 0.98406863],\n",
       "          [0.92745095, 0.95490193, 0.97843134]],\n",
       " \n",
       "         [[0.36593136, 0.39338234, 0.45612746],\n",
       "          [0.37230393, 0.40269607, 0.45661765],\n",
       "          [0.36985293, 0.4002451 , 0.45416668],\n",
       "          ...,\n",
       "          [0.93039215, 0.95      , 0.9735294 ],\n",
       "          [0.9267157 , 0.9463235 , 0.9698529 ],\n",
       "          [0.9252451 , 0.9468137 , 0.9703431 ]],\n",
       " \n",
       "         ...,\n",
       " \n",
       "         [[0.26936275, 0.26936275, 0.26936275],\n",
       "          [0.2617647 , 0.2617647 , 0.25539216],\n",
       "          [0.26960784, 0.27181372, 0.25735295],\n",
       "          ...,\n",
       "          [0.41642156, 0.4242647 , 0.48308823],\n",
       "          [0.45416668, 0.4598039 , 0.5252451 ],\n",
       "          [0.4730392 , 0.47892156, 0.54656863]],\n",
       " \n",
       "         [[0.25882354, 0.25882354, 0.25882354],\n",
       "          [0.25588235, 0.25588235, 0.25392157],\n",
       "          [0.26593137, 0.26593137, 0.25808823],\n",
       "          ...,\n",
       "          [0.41764706, 0.4254902 , 0.47990197],\n",
       "          [0.54387254, 0.5517157 , 0.6105392 ],\n",
       "          [0.7794118 , 0.7882353 , 0.84705883]],\n",
       " \n",
       "         [[0.2517157 , 0.2517157 , 0.2517157 ],\n",
       "          [0.24681373, 0.24681373, 0.24681373],\n",
       "          [0.25269607, 0.25269607, 0.24681373],\n",
       "          ...,\n",
       "          [0.61446077, 0.6105392 , 0.66544116],\n",
       "          [0.7112745 , 0.70735294, 0.7681373 ],\n",
       "          [0.5745098 , 0.57058823, 0.6333333 ]]]], dtype=float32),\n",
       " array([[[[0.00000000e+00, 0.00000000e+00, 0.00000000e+00],\n",
       "          [0.00000000e+00, 0.00000000e+00, 0.00000000e+00],\n",
       "          [0.00000000e+00, 0.00000000e+00, 0.00000000e+00],\n",
       "          ...,\n",
       "          [0.00000000e+00, 0.00000000e+00, 0.00000000e+00],\n",
       "          [0.00000000e+00, 0.00000000e+00, 0.00000000e+00],\n",
       "          [0.00000000e+00, 0.00000000e+00, 0.00000000e+00]],\n",
       " \n",
       "         [[0.00000000e+00, 0.00000000e+00, 0.00000000e+00],\n",
       "          [0.00000000e+00, 0.00000000e+00, 0.00000000e+00],\n",
       "          [0.00000000e+00, 0.00000000e+00, 0.00000000e+00],\n",
       "          ...,\n",
       "          [0.00000000e+00, 0.00000000e+00, 0.00000000e+00],\n",
       "          [0.00000000e+00, 0.00000000e+00, 0.00000000e+00],\n",
       "          [0.00000000e+00, 0.00000000e+00, 0.00000000e+00]],\n",
       " \n",
       "         [[0.00000000e+00, 0.00000000e+00, 0.00000000e+00],\n",
       "          [0.00000000e+00, 0.00000000e+00, 0.00000000e+00],\n",
       "          [0.00000000e+00, 0.00000000e+00, 0.00000000e+00],\n",
       "          ...,\n",
       "          [0.00000000e+00, 0.00000000e+00, 0.00000000e+00],\n",
       "          [0.00000000e+00, 0.00000000e+00, 0.00000000e+00],\n",
       "          [0.00000000e+00, 0.00000000e+00, 0.00000000e+00]],\n",
       " \n",
       "         ...,\n",
       " \n",
       "         [[0.00000000e+00, 0.00000000e+00, 0.00000000e+00],\n",
       "          [0.00000000e+00, 0.00000000e+00, 0.00000000e+00],\n",
       "          [0.00000000e+00, 0.00000000e+00, 0.00000000e+00],\n",
       "          ...,\n",
       "          [8.68382335e-01, 9.18382347e-01, 9.09558833e-01],\n",
       "          [7.89215684e-01, 8.39215696e-01, 8.22549045e-01],\n",
       "          [3.03676456e-01, 3.32107842e-01, 3.16911757e-01]],\n",
       " \n",
       "         [[0.00000000e+00, 0.00000000e+00, 0.00000000e+00],\n",
       "          [0.00000000e+00, 0.00000000e+00, 0.00000000e+00],\n",
       "          [0.00000000e+00, 0.00000000e+00, 0.00000000e+00],\n",
       "          ...,\n",
       "          [8.27450991e-01, 8.82352948e-01, 8.82352948e-01],\n",
       "          [8.01225483e-01, 8.51225495e-01, 8.42401981e-01],\n",
       "          [3.19117635e-01, 3.47549021e-01, 3.36764693e-01]],\n",
       " \n",
       "         [[0.00000000e+00, 0.00000000e+00, 0.00000000e+00],\n",
       "          [0.00000000e+00, 0.00000000e+00, 0.00000000e+00],\n",
       "          [0.00000000e+00, 0.00000000e+00, 0.00000000e+00],\n",
       "          ...,\n",
       "          [7.21323550e-01, 7.78186262e-01, 7.80147076e-01],\n",
       "          [7.09313750e-01, 7.69117653e-01, 7.59313703e-01],\n",
       "          [3.25735301e-01, 3.56617659e-01, 3.44117641e-01]]],\n",
       " \n",
       " \n",
       "        [[[2.48284310e-01, 1.46078438e-01, 3.03921569e-02],\n",
       "          [2.28676468e-01, 1.50490195e-01, 2.72058826e-02],\n",
       "          [2.00490192e-01, 1.51960790e-01, 2.54901964e-02],\n",
       "          ...,\n",
       "          [5.51960766e-01, 1.61029413e-01, 7.35294132e-04],\n",
       "          [5.73529422e-01, 1.71568632e-01, 8.33333377e-03],\n",
       "          [5.91176450e-01, 1.77205876e-01, 7.35294120e-03]],\n",
       " \n",
       "         [[2.28186280e-01, 1.52205884e-01, 2.94117648e-02],\n",
       "          [2.16911763e-01, 1.57843143e-01, 3.08823530e-02],\n",
       "          [1.97303921e-01, 1.60049021e-01, 3.30882370e-02],\n",
       "          ...,\n",
       "          [5.43382347e-01, 1.58088237e-01, 5.14705898e-03],\n",
       "          [5.67892134e-01, 1.64215684e-01, 9.31372587e-03],\n",
       "          [5.77450991e-01, 1.64705887e-01, 5.39215701e-03]],\n",
       " \n",
       "         [[2.22303927e-01, 1.44117653e-01, 3.52941193e-02],\n",
       "          [2.11029410e-01, 1.49019614e-01, 3.52941193e-02],\n",
       "          [1.98039219e-01, 1.60784319e-01, 3.97058837e-02],\n",
       "          ...,\n",
       "          [5.35294116e-01, 1.54901966e-01, 7.84313772e-03],\n",
       "          [5.53676486e-01, 1.63970590e-01, 1.17647061e-02],\n",
       "          [5.69607854e-01, 1.67892158e-01, 1.15196081e-02]],\n",
       " \n",
       "         ...,\n",
       " \n",
       "         [[1.88725498e-02, 5.80882356e-02, 2.67156865e-02],\n",
       "          [2.10784320e-02, 5.68627454e-02, 3.70098054e-02],\n",
       "          [2.05882359e-02, 6.22549020e-02, 3.94607857e-02],\n",
       "          ...,\n",
       "          [7.49019623e-01, 1.52941182e-01, 4.41176491e-03],\n",
       "          [7.56617665e-01, 1.60539210e-01, 6.12745108e-03],\n",
       "          [7.64705896e-01, 1.68627456e-01, 7.84313772e-03]],\n",
       " \n",
       "         [[2.94117648e-02, 7.15686306e-02, 4.01960798e-02],\n",
       "          [3.40686291e-02, 7.57352933e-02, 5.29411770e-02],\n",
       "          [3.03921569e-02, 7.35294148e-02, 5.00000007e-02],\n",
       "          ...,\n",
       "          [7.51225471e-01, 1.55147061e-01, 2.20588245e-03],\n",
       "          [7.57843137e-01, 1.61764711e-01, 2.20588245e-03],\n",
       "          [7.67647088e-01, 1.74509808e-01, 7.84313772e-03]],\n",
       " \n",
       "         [[4.11764719e-02, 8.43137279e-02, 5.29411770e-02],\n",
       "          [3.43137272e-02, 7.74509832e-02, 5.39215691e-02],\n",
       "          [3.72549035e-02, 8.03921595e-02, 5.68627454e-02],\n",
       "          ...,\n",
       "          [7.53921568e-01, 1.57843143e-01, 0.00000000e+00],\n",
       "          [7.63725519e-01, 1.70588240e-01, 3.92156886e-03],\n",
       "          [7.72549033e-01, 1.80392161e-01, 1.17647061e-02]]],\n",
       " \n",
       " \n",
       "        [[[0.00000000e+00, 0.00000000e+00, 0.00000000e+00],\n",
       "          [0.00000000e+00, 0.00000000e+00, 0.00000000e+00],\n",
       "          [0.00000000e+00, 0.00000000e+00, 0.00000000e+00],\n",
       "          ...,\n",
       "          [0.00000000e+00, 0.00000000e+00, 0.00000000e+00],\n",
       "          [0.00000000e+00, 0.00000000e+00, 0.00000000e+00],\n",
       "          [0.00000000e+00, 0.00000000e+00, 0.00000000e+00]],\n",
       " \n",
       "         [[0.00000000e+00, 0.00000000e+00, 0.00000000e+00],\n",
       "          [0.00000000e+00, 0.00000000e+00, 0.00000000e+00],\n",
       "          [0.00000000e+00, 0.00000000e+00, 0.00000000e+00],\n",
       "          ...,\n",
       "          [0.00000000e+00, 0.00000000e+00, 0.00000000e+00],\n",
       "          [0.00000000e+00, 0.00000000e+00, 0.00000000e+00],\n",
       "          [0.00000000e+00, 0.00000000e+00, 0.00000000e+00]],\n",
       " \n",
       "         [[0.00000000e+00, 0.00000000e+00, 0.00000000e+00],\n",
       "          [0.00000000e+00, 0.00000000e+00, 0.00000000e+00],\n",
       "          [0.00000000e+00, 0.00000000e+00, 0.00000000e+00],\n",
       "          ...,\n",
       "          [0.00000000e+00, 0.00000000e+00, 0.00000000e+00],\n",
       "          [0.00000000e+00, 0.00000000e+00, 0.00000000e+00],\n",
       "          [0.00000000e+00, 0.00000000e+00, 0.00000000e+00]],\n",
       " \n",
       "         ...,\n",
       " \n",
       "         [[6.56862780e-02, 5.00000007e-02, 0.00000000e+00],\n",
       "          [5.14460802e-01, 3.53676468e-01, 1.29166663e-01],\n",
       "          [5.34558833e-01, 3.68872553e-01, 1.08823530e-01],\n",
       "          ...,\n",
       "          [3.63725483e-01, 2.45098040e-01, 7.64705911e-02],\n",
       "          [4.42401975e-01, 2.76715696e-01, 6.93627447e-02],\n",
       "          [4.78186280e-01, 2.97794104e-01, 6.64215684e-02]],\n",
       " \n",
       "         [[6.56862780e-02, 5.00000007e-02, 0.00000000e+00],\n",
       "          [5.05637228e-01, 3.52205873e-01, 1.21078432e-01],\n",
       "          [5.27205884e-01, 3.63480389e-01, 1.05637252e-01],\n",
       "          ...,\n",
       "          [3.68627459e-01, 2.50000000e-01, 8.13725516e-02],\n",
       "          [4.31862742e-01, 2.72794127e-01, 5.80882356e-02],\n",
       "          [4.83578444e-01, 3.03186268e-01, 7.10784346e-02]],\n",
       " \n",
       "         [[6.27451017e-02, 4.70588244e-02, 0.00000000e+00],\n",
       "          [5.00000000e-01, 3.49019617e-01, 1.15686275e-01],\n",
       "          [5.23529410e-01, 3.62745106e-01, 1.06372550e-01],\n",
       "          ...,\n",
       "          [3.66666675e-01, 2.53921568e-01, 8.03921595e-02],\n",
       "          [4.42156851e-01, 2.86029398e-01, 6.71568662e-02],\n",
       "          [4.66666669e-01, 2.94117659e-01, 5.29411770e-02]]],\n",
       " \n",
       " \n",
       "        ...,\n",
       " \n",
       " \n",
       "        [[[3.19362760e-01, 2.05637261e-01, 1.42892152e-01],\n",
       "          [3.13725501e-01, 2.00000003e-01, 1.37254909e-01],\n",
       "          [3.03186268e-01, 1.92401960e-01, 1.35539219e-01],\n",
       "          ...,\n",
       "          [1.58578426e-01, 1.54656857e-01, 1.35049015e-01],\n",
       "          [1.61764711e-01, 1.57843143e-01, 1.38235301e-01],\n",
       "          [1.67647064e-01, 1.63725495e-01, 1.44117653e-01]],\n",
       " \n",
       "         [[3.62745106e-01, 2.49019608e-01, 1.86274514e-01],\n",
       "          [3.43872547e-01, 2.30147064e-01, 1.67401955e-01],\n",
       "          [3.35539222e-01, 2.21813723e-01, 1.59068629e-01],\n",
       "          ...,\n",
       "          [1.53186277e-01, 1.49264708e-01, 1.29656866e-01],\n",
       "          [1.64460778e-01, 1.60539210e-01, 1.40931368e-01],\n",
       "          [1.68627456e-01, 1.64705887e-01, 1.45098045e-01]],\n",
       " \n",
       "         [[3.90196085e-01, 2.79411763e-01, 2.22549021e-01],\n",
       "          [3.73529404e-01, 2.62745112e-01, 2.05882356e-01],\n",
       "          [3.56862754e-01, 2.46078432e-01, 1.89215690e-01],\n",
       "          ...,\n",
       "          [1.44852936e-01, 1.40931368e-01, 1.21323526e-01],\n",
       "          [1.57107845e-01, 1.53186277e-01, 1.33578435e-01],\n",
       "          [1.62745103e-01, 1.58823535e-01, 1.39215693e-01]],\n",
       " \n",
       "         ...,\n",
       " \n",
       "         [[1.39460787e-01, 1.39460787e-01, 1.31617650e-01],\n",
       "          [1.21813722e-01, 1.21813722e-01, 1.13970585e-01],\n",
       "          [1.41176477e-01, 1.41176477e-01, 1.33333340e-01],\n",
       "          ...,\n",
       "          [9.68137234e-02, 1.04656860e-01, 1.00735292e-01],\n",
       "          [9.14215669e-02, 9.92647037e-02, 9.53431353e-02],\n",
       "          [1.04901962e-01, 1.12745099e-01, 1.08823530e-01]],\n",
       " \n",
       "         [[1.45098045e-01, 1.45098045e-01, 1.37254909e-01],\n",
       "          [1.11519605e-01, 1.11519605e-01, 1.03676468e-01],\n",
       "          [1.47058830e-01, 1.47058830e-01, 1.39215693e-01],\n",
       "          ...,\n",
       "          [9.60784331e-02, 9.80392173e-02, 9.11764726e-02],\n",
       "          [8.40686262e-02, 8.60294104e-02, 7.91666657e-02],\n",
       "          [7.52450973e-02, 7.72058815e-02, 7.03431368e-02]],\n",
       " \n",
       "         [[1.34313732e-01, 1.34313732e-01, 1.26470596e-01],\n",
       "          [1.12745099e-01, 1.12745099e-01, 1.04901962e-01],\n",
       "          [1.54901966e-01, 1.54901966e-01, 1.47058830e-01],\n",
       "          ...,\n",
       "          [9.11764726e-02, 9.11764726e-02, 8.33333358e-02],\n",
       "          [9.41176489e-02, 9.41176489e-02, 8.62745121e-02],\n",
       "          [8.43137279e-02, 8.43137279e-02, 7.64705911e-02]]],\n",
       " \n",
       " \n",
       "        [[[4.49264705e-01, 5.82598031e-01, 5.15931368e-01],\n",
       "          [4.57843125e-01, 5.69607854e-01, 5.00000000e-01],\n",
       "          [4.63725477e-01, 5.57843149e-01, 4.95098025e-01],\n",
       "          ...,\n",
       "          [3.59803915e-01, 5.96078455e-01, 5.15686274e-01],\n",
       "          [3.94607842e-01, 5.16666651e-01, 4.75735307e-01],\n",
       "          [0.00000000e+00, 2.94117653e-03, 0.00000000e+00]],\n",
       " \n",
       "         [[4.60539222e-01, 5.94607830e-01, 5.27696073e-01],\n",
       "          [4.69607830e-01, 5.87254882e-01, 5.17647088e-01],\n",
       "          [4.63235289e-01, 5.62500000e-01, 4.98039216e-01],\n",
       "          ...,\n",
       "          [3.55637252e-01, 5.96813738e-01, 5.16421556e-01],\n",
       "          [3.87745112e-01, 5.19852936e-01, 4.75490183e-01],\n",
       "          [0.00000000e+00, 2.94117653e-03, 0.00000000e+00]],\n",
       " \n",
       "         [[4.63725477e-01, 6.00000024e-01, 5.32352924e-01],\n",
       "          [4.71568614e-01, 5.91176450e-01, 5.20588219e-01],\n",
       "          [4.62009817e-01, 5.73774517e-01, 5.04166663e-01],\n",
       "          ...,\n",
       "          [3.49999994e-01, 5.99019587e-01, 5.14705896e-01],\n",
       "          [3.77205878e-01, 5.15931368e-01, 4.68627453e-01],\n",
       "          [0.00000000e+00, 5.88235306e-03, 0.00000000e+00]],\n",
       " \n",
       "         ...,\n",
       " \n",
       "         [[6.99754894e-01, 6.70343161e-01, 6.55637264e-01],\n",
       "          [5.49019635e-01, 6.04901969e-01, 5.60294092e-01],\n",
       "          [3.98039222e-01, 4.68627453e-01, 4.06862736e-01],\n",
       "          ...,\n",
       "          [6.69607818e-01, 8.31617653e-01, 7.66421556e-01],\n",
       "          [6.48774505e-01, 7.51960814e-01, 7.08578408e-01],\n",
       "          [0.00000000e+00, 1.44607844e-02, 0.00000000e+00]],\n",
       " \n",
       "         [[5.55147052e-01, 4.80637252e-01, 4.55637246e-01],\n",
       "          [6.20343149e-01, 6.53676450e-01, 6.06372535e-01],\n",
       "          [4.12254900e-01, 4.71813738e-01, 4.18382347e-01],\n",
       "          ...,\n",
       "          [7.25245118e-01, 8.45098019e-01, 7.87745118e-01],\n",
       "          [6.87990189e-01, 7.62745082e-01, 7.26960778e-01],\n",
       "          [0.00000000e+00, 8.57843179e-03, 0.00000000e+00]],\n",
       " \n",
       "         [[3.44607830e-01, 2.39460781e-01, 2.10294113e-01],\n",
       "          [6.69117630e-01, 6.79166675e-01, 6.30392134e-01],\n",
       "          [5.14950991e-01, 5.66911757e-01, 5.24754882e-01],\n",
       "          ...,\n",
       "          [7.49264717e-01, 8.40931356e-01, 7.88235307e-01],\n",
       "          [7.09803939e-01, 7.64705896e-01, 7.28431344e-01],\n",
       "          [0.00000000e+00, 6.86274515e-03, 0.00000000e+00]]],\n",
       " \n",
       " \n",
       "        [[[2.15441182e-01, 2.58578420e-01, 2.67892152e-01],\n",
       "          [2.18627453e-01, 2.64705896e-01, 2.73039222e-01],\n",
       "          [2.15686277e-01, 2.70588249e-01, 2.74509817e-01],\n",
       "          ...,\n",
       "          [3.64705890e-01, 4.19607848e-01, 4.62745100e-01],\n",
       "          [3.15686285e-01, 3.70588243e-01, 4.13725495e-01],\n",
       "          [2.78431386e-01, 3.33333343e-01, 3.76470596e-01]],\n",
       " \n",
       "         [[1.96568623e-01, 2.45343134e-01, 2.78431386e-01],\n",
       "          [1.98039219e-01, 2.50000000e-01, 2.82352954e-01],\n",
       "          [1.94362745e-01, 2.53186285e-01, 2.74754912e-01],\n",
       "          ...,\n",
       "          [2.76470602e-01, 3.39215696e-01, 3.90196085e-01],\n",
       "          [2.29656860e-01, 2.92401969e-01, 3.43382359e-01],\n",
       "          [1.95098042e-01, 2.57843137e-01, 3.08823526e-01]],\n",
       " \n",
       "         [[1.76470593e-01, 2.28676468e-01, 2.81372547e-01],\n",
       "          [1.76225483e-01, 2.32598037e-01, 2.81617641e-01],\n",
       "          [1.67647064e-01, 2.34313726e-01, 2.71568626e-01],\n",
       "          ...,\n",
       "          [1.98774517e-01, 2.55637258e-01, 3.06617647e-01],\n",
       "          [1.63970590e-01, 2.20833331e-01, 2.71813720e-01],\n",
       "          [1.39215693e-01, 1.96078435e-01, 2.47058824e-01]],\n",
       " \n",
       "         ...,\n",
       " \n",
       "         [[7.12499976e-01, 6.88970566e-01, 6.26225471e-01],\n",
       "          [6.10294104e-01, 5.87499976e-01, 5.26470602e-01],\n",
       "          [4.90196079e-01, 4.66421574e-01, 4.24509794e-01],\n",
       "          ...,\n",
       "          [5.01715660e-01, 5.00245094e-01, 6.35294139e-01],\n",
       "          [4.72303927e-01, 4.63480383e-01, 6.00735307e-01],\n",
       "          [4.63725477e-01, 4.54901963e-01, 5.92156887e-01]],\n",
       " \n",
       "         [[6.41176462e-01, 6.26470566e-01, 5.60784340e-01],\n",
       "          [5.25245070e-01, 5.10294139e-01, 4.55147058e-01],\n",
       "          [4.02205884e-01, 3.90931368e-01, 3.44607830e-01],\n",
       "          ...,\n",
       "          [5.33823550e-01, 5.81617653e-01, 7.19852924e-01],\n",
       "          [5.28186262e-01, 5.72303951e-01, 7.05637276e-01],\n",
       "          [5.36274493e-01, 5.80392182e-01, 7.13725507e-01]],\n",
       " \n",
       "         [[5.60784340e-01, 5.49019635e-01, 4.82352942e-01],\n",
       "          [4.18627441e-01, 4.07843143e-01, 3.50980401e-01],\n",
       "          [3.00980389e-01, 2.92401969e-01, 2.46568620e-01],\n",
       "          ...,\n",
       "          [5.95098019e-01, 6.75735295e-01, 8.14215660e-01],\n",
       "          [6.28186285e-01, 7.05147088e-01, 8.34803939e-01],\n",
       "          [6.61764681e-01, 7.37254918e-01, 8.66666675e-01]]]],\n",
       "       dtype=float32))"
      ]
     },
     "execution_count": 66,
     "metadata": {},
     "output_type": "execute_result"
    }
   ],
   "source": [
    "X=batch_1[:2]\n",
    "X"
   ]
  },
  {
   "cell_type": "code",
   "execution_count": 69,
   "id": "2fdb5fb6",
   "metadata": {},
   "outputs": [
    {
     "data": {
      "text/plain": [
       "(2, 16, 100, 100, 3)"
      ]
     },
     "execution_count": 69,
     "metadata": {},
     "output_type": "execute_result"
    }
   ],
   "source": [
    "X=batch_1[:2]\n",
    "#X.shape\n",
    "np.array(X).shape"
   ]
  },
  {
   "cell_type": "code",
   "execution_count": 70,
   "id": "99d54eb1",
   "metadata": {},
   "outputs": [],
   "source": [
    "@tf.function\n",
    "def train_step(batch): ##passes one batch of data\n",
    "    #record all of our operations\n",
    "    with tf.GradientTape() as tape:\n",
    "        #Get achor and positive/negative image\n",
    "        X=batch[:2]\n",
    "        #Get label\n",
    "        Y=batch[2]\n",
    "        #forward pass\n",
    "        yhat=siamese_model(X,training=True)\n",
    "        logits = tf.squeeze(yhat, axis=-1)\n",
    "        #calculate Loss\n",
    "        print(logits.shape)\n",
    "        loss= tf.keras.losses.binary_crossentropy(Y,logits)\n",
    "        \n",
    "    #Calculate updated weights and apply to siamese model\n",
    "    grad= tape.gradient(loss,siamese_model.trainable_variables)\n",
    "    #Calculate updated weights and apply to siamese model\n",
    "    opt.apply_gradients(zip(grad,siamese_model.trainable_variables))\n",
    "    return loss\n",
    "    \n",
    "    pass"
   ]
  },
  {
   "cell_type": "markdown",
   "id": "fa6d3764",
   "metadata": {},
   "source": [
    "## Build Training Loop"
   ]
  },
  {
   "cell_type": "code",
   "execution_count": 71,
   "id": "7eca0665",
   "metadata": {},
   "outputs": [],
   "source": [
    "def train(data,epochs):\n",
    "    #loop through epochs\n",
    "    for epoch in range(1,epochs+1):\n",
    "        print('\\n Epoch {}:{}'.format(epoch,epochs))\n",
    "        progbar=tf.keras.utils.Progbar(len(data))\n",
    "        \n",
    "        #loop through each batch\n",
    "        for idx,batch in enumerate( data):\n",
    "            #Run train stepo her\n",
    "            train_step(batch)\n",
    "            progbar.update(idx+1)\n",
    "        #Save checkpoints\n",
    "        if epoch %10==0:\n",
    "            checkpoint.save(file_prefix=checkpoint_prefix)\n",
    "            \n",
    "    "
   ]
  },
  {
   "cell_type": "markdown",
   "id": "699b80c3",
   "metadata": {},
   "source": [
    "## Train the Model"
   ]
  },
  {
   "cell_type": "code",
   "execution_count": 72,
   "id": "f32dee5a",
   "metadata": {},
   "outputs": [],
   "source": [
    "epochs=50"
   ]
  },
  {
   "cell_type": "code",
   "execution_count": 73,
   "id": "e4869c5a",
   "metadata": {},
   "outputs": [],
   "source": [
    "#train(train_data,epochs)"
   ]
  },
  {
   "cell_type": "markdown",
   "id": "84c9f21c",
   "metadata": {},
   "source": [
    "# Evaluate Model"
   ]
  },
  {
   "cell_type": "code",
   "execution_count": 74,
   "id": "a8c20b3b",
   "metadata": {},
   "outputs": [
    {
     "name": "stdout",
     "output_type": "stream",
     "text": [
      "1/1 [==============================] - 1s 911ms/step\n"
     ]
    },
    {
     "data": {
      "text/plain": [
       "array([[0.49978918],\n",
       "       [0.4965868 ],\n",
       "       [0.4995904 ],\n",
       "       [0.49682036],\n",
       "       [0.4997158 ],\n",
       "       [0.49941605],\n",
       "       [0.49874815],\n",
       "       [0.49951935],\n",
       "       [0.49876887],\n",
       "       [0.49854887],\n",
       "       [0.49500307],\n",
       "       [0.4993422 ],\n",
       "       [0.49988037],\n",
       "       [0.4975942 ],\n",
       "       [0.49940506],\n",
       "       [0.4972002 ]], dtype=float32)"
      ]
     },
     "execution_count": 74,
     "metadata": {},
     "output_type": "execute_result"
    }
   ],
   "source": [
    "# Import metric calculations\n",
    "from tensorflow.keras.metrics import Precision, Recall\n",
    "# Get a batch of test data\n",
    "test_input, test_val, y_true = test_data.as_numpy_iterator().next()\n",
    "# Make predictions\n",
    "y_hat = siamese_model.predict([test_input, test_val])\n",
    "y_hat"
   ]
  },
  {
   "cell_type": "code",
   "execution_count": 75,
   "id": "027bdfcf",
   "metadata": {},
   "outputs": [
    {
     "data": {
      "text/plain": [
       "[0, 0, 0, 0, 0, 0, 0, 0, 0, 0, 0, 0, 0, 0, 0, 0]"
      ]
     },
     "execution_count": 75,
     "metadata": {},
     "output_type": "execute_result"
    }
   ],
   "source": [
    "# Post processing the results \n",
    "[1 if prediction > 0.6 else 0 for prediction in y_hat ]"
   ]
  },
  {
   "cell_type": "code",
   "execution_count": 76,
   "id": "4c8387bf",
   "metadata": {},
   "outputs": [
    {
     "data": {
      "text/plain": [
       "array([1., 0., 1., 0., 1., 1., 1., 1., 0., 1., 0., 0., 0., 0., 1., 0.],\n",
       "      dtype=float32)"
      ]
     },
     "execution_count": 76,
     "metadata": {},
     "output_type": "execute_result"
    }
   ],
   "source": [
    "y_true"
   ]
  },
  {
   "cell_type": "markdown",
   "id": "7e3377ef",
   "metadata": {},
   "source": [
    "# Calculate Metrics"
   ]
  },
  {
   "cell_type": "code",
   "execution_count": 77,
   "id": "08157d57",
   "metadata": {},
   "outputs": [
    {
     "data": {
      "text/plain": [
       "0.0"
      ]
     },
     "execution_count": 77,
     "metadata": {},
     "output_type": "execute_result"
    }
   ],
   "source": [
    "# Creating a metric object \n",
    "m = Recall()\n",
    "\n",
    "# Calculating the recall value \n",
    "m.update_state(y_true, y_hat)\n",
    "\n",
    "# Return Recall Result\n",
    "m.result().numpy()"
   ]
  },
  {
   "cell_type": "code",
   "execution_count": 61,
   "id": "fa653324",
   "metadata": {},
   "outputs": [
    {
     "data": {
      "text/plain": [
       "0.5"
      ]
     },
     "execution_count": 61,
     "metadata": {},
     "output_type": "execute_result"
    }
   ],
   "source": [
    "# Creating a metric object \n",
    "m = Precision()\n",
    "\n",
    "# Calculating the recall value \n",
    "m.update_state(y_true, y_hat)\n",
    "\n",
    "# Return Recall Result\n",
    "m.result().numpy()"
   ]
  },
  {
   "cell_type": "code",
   "execution_count": 62,
   "id": "e011bd55",
   "metadata": {},
   "outputs": [
    {
     "data": {
      "image/png": "[encoded data removed]",
      "text/plain": [
       "<Figure size 1000x800 with 2 Axes>"
      ]
     },
     "metadata": {},
     "output_type": "display_data"
    }
   ],
   "source": [
    "# Set plot size \n",
    "plt.figure(figsize=(10,8))\n",
    "\n",
    "# Set first subplot\n",
    "plt.subplot(1,2,1)\n",
    "plt.imshow(test_input[0])\n",
    "\n",
    "# Set second subplot\n",
    "plt.subplot(1,2,2)\n",
    "plt.imshow(test_val[6])\n",
    "\n",
    "# Renders cleanly\n",
    "plt.show()\n"
   ]
  },
  {
   "cell_type": "code",
   "execution_count": 63,
   "id": "34a9cfb2",
   "metadata": {},
   "outputs": [
    {
     "name": "stdout",
     "output_type": "stream",
     "text": [
      "Requirement already satisfied: h5py in c:\\users\\ckush\\anaconda3\\envs\\pytorch\\lib\\site-packages (3.9.0)\n",
      "Requirement already satisfied: numpy>=1.17.3 in c:\\users\\ckush\\anaconda3\\envs\\pytorch\\lib\\site-packages (from h5py) (1.24.3)\n",
      "Note: you may need to restart the kernel to use updated packages.\n"
     ]
    }
   ],
   "source": [
    "pip install h5py"
   ]
  },
  {
   "cell_type": "code",
   "execution_count": 64,
   "id": "0fa4e0e1",
   "metadata": {},
   "outputs": [],
   "source": [
    "import h5py"
   ]
  },
  {
   "cell_type": "code",
   "execution_count": 65,
   "id": "c2c918b0",
   "metadata": {},
   "outputs": [],
   "source": [
    "#model_path = 'model.h5py/'"
   ]
  },
  {
   "cell_type": "code",
   "execution_count": 78,
   "id": "e204ded0",
   "metadata": {},
   "outputs": [],
   "source": [
    "loaded_model=tf.saved_model.load(\"model.h5py\")"
   ]
  },
  {
   "cell_type": "code",
   "execution_count": 67,
   "id": "2e278c48",
   "metadata": {},
   "outputs": [],
   "source": [
    "#os.mkdir(\"Verification\")"
   ]
  },
  {
   "cell_type": "code",
   "execution_count": 79,
   "id": "3189c409",
   "metadata": {},
   "outputs": [
    {
     "data": {
      "text/plain": [
       "['0a113ef3-1e73-11ee-ac6b-30c9abdaff74.jpg',\n",
       " '0a60318e-1e73-11ee-b350-30c9abdaff74.jpg',\n",
       " '0ab7baf6-1e73-11ee-9b65-30c9abdaff74.jpg',\n",
       " '0aee6273-1e73-11ee-9f74-30c9abdaff74.jpg',\n",
       " '0b3a6feb-1e73-11ee-bbb2-30c9abdaff74.jpg',\n",
       " '0b573133-1e73-11ee-9d7f-30c9abdaff74.jpg',\n",
       " '0b9062ad-1e73-11ee-a84b-30c9abdaff74.jpg',\n",
       " '0bc92652-1e73-11ee-a020-30c9abdaff74.jpg',\n",
       " '0be5aecc-1e73-11ee-ae91-30c9abdaff74.jpg',\n",
       " '0c23996f-1e73-11ee-8e9d-30c9abdaff74.jpg',\n",
       " '0c61df1a-1e73-11ee-8f1b-30c9abdaff74.jpg',\n",
       " '0c7e4cac-1e73-11ee-9ddf-30c9abdaff74.jpg',\n",
       " '0c9fad60-1e73-11ee-8bc8-30c9abdaff74.jpg',\n",
       " '0d1a229f-1e73-11ee-ad61-30c9abdaff74.jpg',\n",
       " '0d51969d-1e73-11ee-9530-30c9abdaff74.jpg',\n",
       " '0d6e43cc-1e73-11ee-a244-30c9abdaff74.jpg',\n",
       " '0d8d14e9-1e73-11ee-aa3d-30c9abdaff74.jpg',\n",
       " '0da9cb9e-1e73-11ee-ba16-30c9abdaff74.jpg',\n",
       " '0dc8c198-1e73-11ee-a859-30c9abdaff74.jpg',\n",
       " '0e063bf7-1e73-11ee-8c77-30c9abdaff74.jpg',\n",
       " '0e604299-1e73-11ee-9d61-30c9abdaff74.jpg',\n",
       " '0e9bc45c-1e73-11ee-821a-30c9abdaff74.jpg',\n",
       " '0ef64f2c-1e73-11ee-9d37-30c9abdaff74.jpg',\n",
       " '0fd16758-1e73-11ee-afff-30c9abdaff74.jpg',\n",
       " '0ff070a7-1e73-11ee-8da0-30c9abdaff74.jpg',\n",
       " '1a0b871f-1e73-11ee-b7db-30c9abdaff74.jpg',\n",
       " '1aa3237c-1e73-11ee-8c2a-30c9abdaff74.jpg',\n",
       " '1ac245a2-1e73-11ee-8206-30c9abdaff74.jpg',\n",
       " '1b37d2ed-1e73-11ee-ab4e-30c9abdaff74.jpg',\n",
       " '1b75d121-1e73-11ee-85dc-30c9abdaff74.jpg',\n",
       " '1b94934f-1e73-11ee-ab6f-30c9abdaff74.jpg',\n",
       " '1bea6203-1e73-11ee-8f64-30c9abdaff74.jpg',\n",
       " '1c0b483f-1e73-11ee-bae6-30c9abdaff74.jpg',\n",
       " '1c492d06-1e73-11ee-bade-30c9abdaff74.jpg',\n",
       " '1c685125-1e73-11ee-a6d7-30c9abdaff74.jpg',\n",
       " '1c899287-1e73-11ee-8166-30c9abdaff74.jpg',\n",
       " '1caaf17d-1e73-11ee-bc07-30c9abdaff74.jpg',\n",
       " '1ccc3b31-1e73-11ee-ad4d-30c9abdaff74.jpg',\n",
       " '1ceb1e0d-1e73-11ee-a232-30c9abdaff74.jpg',\n",
       " '1d09aa49-1e73-11ee-82c8-30c9abdaff74.jpg',\n",
       " '1d44ee5a-1e73-11ee-8fca-30c9abdaff74.jpg',\n",
       " '1d63fc0e-1e73-11ee-903f-30c9abdaff74.jpg',\n",
       " '1da3bbec-1e73-11ee-b0b9-30c9abdaff74.jpg',\n",
       " '1dbf9da1-1e73-11ee-8479-30c9abdaff74.jpg',\n",
       " '1de13790-1e73-11ee-b456-30c9abdaff74.jpg',\n",
       " '1e215318-1e73-11ee-bcdc-30c9abdaff74.jpg',\n",
       " '1e636f5a-1e73-11ee-b2fd-30c9abdaff74.jpg',\n",
       " '1e82e347-1e73-11ee-b774-30c9abdaff74.jpg',\n",
       " '1ef9f377-1e73-11ee-abb5-30c9abdaff74.jpg',\n",
       " '1f3a2937-1e73-11ee-a758-30c9abdaff74.jpg']"
      ]
     },
     "execution_count": 79,
     "metadata": {},
     "output_type": "execute_result"
    }
   ],
   "source": [
    "os.listdir(os.path.join('Verification','Verification image'))"
   ]
  },
  {
   "cell_type": "code",
   "execution_count": 80,
   "id": "702aa09b",
   "metadata": {},
   "outputs": [
    {
     "data": {
      "text/plain": [
       "'Verification\\\\Input image'"
      ]
     },
     "execution_count": 80,
     "metadata": {},
     "output_type": "execute_result"
    }
   ],
   "source": [
    "os.path.join('Verification','Input image')"
   ]
  },
  {
   "cell_type": "code",
   "execution_count": 84,
   "id": "7b13bb76",
   "metadata": {},
   "outputs": [],
   "source": [
    "def verify(model,detection_threshold,verification_threshold):\n",
    "    results=[]\n",
    "    for image in os.listdir(os.path.join('Verification','Verification image')):\n",
    "        imp_img=preprocess(os.path.join('Verification','Input image','input_image.jpg'))\n",
    "        validation_img=preprocess(os.path.join('Verification','Verification image',image))\n",
    "\n",
    "    #make prediction\n",
    "        results=model.predict(list(np.expand_dims([input_img,validation_img],axis=-1)))\n",
    "        results.append(results)\n",
    "\n",
    "    detection=np.sum(np.array(results)>detection_threshold)\n",
    "    verification=detection/len(os.listdir(os.path.join('Verification','Verificationimage')))\n",
    "    verified=verification>verification_threshold\n",
    "\n",
    "    return results,verified\n"
   ]
  },
  {
   "cell_type": "code",
   "execution_count": 1,
   "id": "1c8e2871",
   "metadata": {},
   "outputs": [
    {
     "ename": "NameError",
     "evalue": "name 'cv2' is not defined",
     "output_type": "error",
     "traceback": [
      "\u001b[1;31m---------------------------------------------------------------------------\u001b[0m",
      "\u001b[1;31mNameError\u001b[0m                                 Traceback (most recent call last)",
      "Cell \u001b[1;32mIn[1], line 1\u001b[0m\n\u001b[1;32m----> 1\u001b[0m cap\u001b[38;5;241m=\u001b[39mcv2\u001b[38;5;241m.\u001b[39mVideoCapture(\u001b[38;5;241m0\u001b[39m)\n\u001b[0;32m      2\u001b[0m \u001b[38;5;28;01mwhile\u001b[39;00m cap\u001b[38;5;241m.\u001b[39misOpened():\n\u001b[0;32m      4\u001b[0m     ret,frame\u001b[38;5;241m=\u001b[39mcap\u001b[38;5;241m.\u001b[39mread()\n",
      "\u001b[1;31mNameError\u001b[0m: name 'cv2' is not defined"
     ]
    }
   ],
   "source": [
    "cap=cv2.VideoCapture(0)\n",
    "while cap.isOpened():\n",
    "    \n",
    "    ret,frame=cap.read()\n",
    "    frame=frame[130:80+300,200:200+250,:]\n",
    "    cv2.imshow('Verification',frame)\n",
    "    cv2.imwrite(os.path.join('Verification','Input image','input_img.jpg'),frame)\n",
    "    results,verified=verify(loaded_model,0.5,0.5)\n",
    "    print(verified)\n",
    "    if cv2.waitKey(10)& 0xFF==ord('q'):\n",
    "        break\n",
    "cap.release()\n",
    "cv2.destroyAllWindows()"
   ]
  },
  {
   "cell_type": "code",
   "execution_count": null,
   "id": "0af3acc0",
   "metadata": {},
   "outputs": [],
   "source": []
  }
 ],
 "metadata": {
  "kernelspec": {
   "display_name": "torch",
   "language": "python",
   "name": "torch"
  },
  "language_info": {
   "codemirror_mode": {
    "name": "ipython",
    "version": 3
   },
   "file_extension": ".py",
   "mimetype": "text/x-python",
   "name": "python",
   "nbconvert_exporter": "python",
   "pygments_lexer": "ipython3",
   "version": "3.11.4"
  }
 },
 "nbformat": 4,
 "nbformat_minor": 5
}
